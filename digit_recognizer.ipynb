{
 "cells": [
  {
   "cell_type": "code",
   "execution_count": 20,
   "metadata": {},
   "outputs": [],
   "source": [
    "import numpy as np\n",
    "import tensorflow as tf\n",
    "from keras.models import Sequential\n",
    "from keras.layers import Dense, Conv2D, Flatten, Activation\n",
    "from keras.utils import to_categorical"
   ]
  },
  {
   "cell_type": "code",
   "execution_count": 2,
   "metadata": {},
   "outputs": [],
   "source": [
    "IMG_SIZE = (28, 28)\n",
    "TRAIN_N = 42000\n",
    "TEST_N = 28000"
   ]
  },
  {
   "cell_type": "code",
   "execution_count": 30,
   "metadata": {},
   "outputs": [],
   "source": [
    "def load(filename, N, load_label=False):\n",
    "  imgs = np.empty((N, IMG_SIZE[0] * IMG_SIZE[1]), dtype=np.float32)\n",
    "  labels = np.empty((N), dtype=np.int32)\n",
    "  with open(filename, 'r') as f:\n",
    "    for i, line in enumerate(f):\n",
    "      if i == 0:\n",
    "        continue\n",
    "      for j, value in enumerate(line.split(',')):\n",
    "        if load_label:\n",
    "          if j == 0:\n",
    "            labels[i - 1] = int(value)\n",
    "          else:\n",
    "            imgs[i - 1][j - 1] = float(value)\n",
    "        else:\n",
    "          imgs[i - 1][j] = float(value)\n",
    "  imgs = (imgs / 127.5) - 1.\n",
    "  imgs = imgs.reshape((N, IMG_SIZE[0], IMG_SIZE[1], 1))\n",
    "  if load_label:\n",
    "    labels = to_categorical(labels, num_classes=10)\n",
    "    return imgs, labels\n",
    "  return imgs"
   ]
  },
  {
   "cell_type": "code",
   "execution_count": 31,
   "metadata": {},
   "outputs": [],
   "source": [
    "train_imgs, train_labels = load('train.csv', TRAIN_N, load_label=True)"
   ]
  },
  {
   "cell_type": "code",
   "execution_count": 32,
   "metadata": {},
   "outputs": [],
   "source": [
    "test_imgs = load('test.csv', TEST_N)"
   ]
  },
  {
   "cell_type": "code",
   "execution_count": 34,
   "metadata": {},
   "outputs": [],
   "source": [
    "model = Sequential()\n",
    "model.add(Conv2D(20, (2, 2), strides=(2, 2), padding='same', activation='relu', input_shape=(IMG_SIZE[0], IMG_SIZE[1], 1)))\n",
    "model.add(Conv2D(50, (2, 2), strides=(2, 2), padding='same', activation='relu'))\n",
    "model.add(Flatten())\n",
    "model.add(Dense(500, activation='relu'))\n",
    "model.add(Dense(10, activation='softmax'))"
   ]
  },
  {
   "cell_type": "code",
   "execution_count": 35,
   "metadata": {},
   "outputs": [
    {
     "name": "stdout",
     "output_type": "stream",
     "text": [
      "Epoch 1/5\n",
      "42000/42000 [==============================] - 10s 250us/step - loss: 0.2118 - acc: 0.9359\n",
      "Epoch 2/5\n",
      "42000/42000 [==============================] - 9s 226us/step - loss: 0.0666 - acc: 0.9787\n",
      "Epoch 3/5\n",
      "42000/42000 [==============================] - 9s 222us/step - loss: 0.0376 - acc: 0.9885\n",
      "Epoch 4/5\n",
      "42000/42000 [==============================] - 9s 225us/step - loss: 0.0248 - acc: 0.9919\n",
      "Epoch 5/5\n",
      "42000/42000 [==============================] - 9s 224us/step - loss: 0.0161 - acc: 0.9945\n"
     ]
    },
    {
     "data": {
      "text/plain": [
       "<keras.callbacks.History at 0x7fdf6c2fd390>"
      ]
     },
     "execution_count": 35,
     "metadata": {},
     "output_type": "execute_result"
    }
   ],
   "source": [
    "model.compile(loss='categorical_crossentropy', optimizer='adam', metrics=['accuracy'])\n",
    "model.fit(train_imgs, train_labels, epochs=5, batch_size=32)"
   ]
  },
  {
   "cell_type": "code",
   "execution_count": 39,
   "metadata": {},
   "outputs": [],
   "source": [
    "classes = model.predict(test_imgs, batch_size=32)"
   ]
  },
  {
   "cell_type": "code",
   "execution_count": 40,
   "metadata": {},
   "outputs": [],
   "source": [
    "top_labels = np.argmax(classes, axis=1)"
   ]
  },
  {
   "cell_type": "code",
   "execution_count": 42,
   "metadata": {},
   "outputs": [],
   "source": [
    "with open('submission.csv', 'w') as f:\n",
    "  f.write('ImageId,Label\\n')\n",
    "  for i in range(top_labels.size):\n",
    "    f.write('{},{}\\n'.format(i + 1, top_labels[i]))"
   ]
  },
  {
   "cell_type": "code",
   "execution_count": null,
   "metadata": {},
   "outputs": [],
   "source": []
  }
 ],
 "metadata": {
  "kernelspec": {
   "display_name": "Python 3",
   "language": "python",
   "name": "python3"
  },
  "language_info": {
   "codemirror_mode": {
    "name": "ipython",
    "version": 3
   },
   "file_extension": ".py",
   "mimetype": "text/x-python",
   "name": "python",
   "nbconvert_exporter": "python",
   "pygments_lexer": "ipython3",
   "version": "3.5.5"
  }
 },
 "nbformat": 4,
 "nbformat_minor": 2
}
